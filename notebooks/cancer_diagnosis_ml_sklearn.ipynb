{
 "cells": [
  {
   "cell_type": "markdown",
   "id": "93682890-c67c-45a2-a886-a68818584de5",
   "metadata": {},
   "source": [
    "# Cancer Diagnosis using Machine Learning (scikit-learn)"
   ]
  },
  {
   "cell_type": "code",
   "execution_count": null,
   "id": "870b8e7e-5ea5-4d66-9d0c-9b02ebb13b5c",
   "metadata": {},
   "outputs": [],
   "source": [
    "# Imports\n",
    "import pandas as pd\n",
    "import numpy as np"
   ]
  },
  {
   "cell_type": "markdown",
   "id": "8f78f15b-0b8f-4098-a164-6678198badba",
   "metadata": {},
   "source": [
    "### Getting the data ready"
   ]
  },
  {
   "cell_type": "markdown",
   "metadata": {},
   "source": [
    "Import the cancer data."
   ]
  },
  {
   "cell_type": "code",
   "execution_count": null,
   "id": "6e64f2f6-cc3c-4057-8289-9eef3804c797",
   "metadata": {},
   "outputs": [],
   "source": [
    "cancer_data = pd.read_csv(\"../data/cancer_data.csv\")\n",
    "cancer_data.head()"
   ]
  },
  {
   "cell_type": "markdown",
   "metadata": {},
   "source": [
    "Check if there are any missing values."
   ]
  },
  {
   "cell_type": "code",
   "execution_count": null,
   "id": "61cd6ec8-aab1-4e68-acdd-41c543cadf22",
   "metadata": {},
   "outputs": [],
   "source": [
    "# Get the sum of all missing values\n",
    "cancer_data.isna().sum()"
   ]
  },
  {
   "cell_type": "markdown",
   "metadata": {},
   "source": [
    "Create the feature columns and the target columns."
   ]
  },
  {
   "cell_type": "code",
   "execution_count": null,
   "id": "18dd844c-99de-4820-8b15-5e8dbfedec3f",
   "metadata": {},
   "outputs": [],
   "source": [
    "# Create X (the feature columns)\n",
    "X = cancer_data.drop(\"diagnosis\", axis=1)\n",
    "\n",
    "# Create y (the target column)\n",
    "y = cancer_data[\"diagnosis\"]"
   ]
  },
  {
   "cell_type": "code",
   "execution_count": null,
   "id": "ac0c76b5-4ee9-4222-ba8c-a6d587a3c7bd",
   "metadata": {},
   "outputs": [],
   "source": [
    "# Check the head of the features DataFrame\n",
    "X.head()"
   ]
  },
  {
   "cell_type": "code",
   "execution_count": null,
   "id": "f4f3eb40-ff06-4cf3-b110-7bd329bcac74",
   "metadata": {},
   "outputs": [],
   "source": [
    "# Check the head and the value counts of the labels \n",
    "y.head(), y.value_counts()"
   ]
  },
  {
   "cell_type": "markdown",
   "metadata": {},
   "source": [
    "Split the data into training and test sets"
   ]
  },
  {
   "cell_type": "code",
   "execution_count": null,
   "id": "4fa01e8c-4204-4fb5-b512-46de5552627d",
   "metadata": {},
   "outputs": [],
   "source": [
    "from sklearn.model_selection import train_test_split\n",
    "\n",
    "np.random.seed(42)\n",
    "X_train, X_test, y_train, y_test = train_test_split(X, y, test_size=0.25)\n",
    "X_train.shape, X_test.shape, y_train.shape, y_test.shape"
   ]
  },
  {
   "cell_type": "markdown",
   "id": "39f0b993-19e7-4ece-92a8-aad8e68507f5",
   "metadata": {},
   "source": [
    "## Algorithm #1: Random Forest"
   ]
  },
  {
   "cell_type": "code",
   "execution_count": null,
   "id": "446b0a92-f6a7-4357-9ab0-abc41cd4e6a1",
   "metadata": {},
   "outputs": [],
   "source": [
    "from sklearn.ensemble import RandomForestClassifier\n",
    "\n",
    "# Create model instance\n",
    "model = RandomForestClassifier()"
   ]
  },
  {
   "cell_type": "markdown",
   "id": "26002b6d-7e04-460b-8715-7620b542e2ce",
   "metadata": {},
   "source": [
    "### Fitting the model to the data and using it to make a prediction"
   ]
  },
  {
   "cell_type": "code",
   "execution_count": null,
   "id": "4064482b-3d57-4f5b-b6bd-8f8f57a64fa0",
   "metadata": {},
   "outputs": [],
   "source": [
    "# Fit the model on the numerical data\n",
    "model.fit(X_train, y_train)"
   ]
  },
  {
   "cell_type": "code",
   "execution_count": null,
   "id": "a4587abe-2a4b-4fd8-b6f5-3207b7f01395",
   "metadata": {},
   "outputs": [],
   "source": [
    "# Use the model to make a prediction on the test data (further evaluation)\n",
    "y_preds = model.predict(X=X_test)"
   ]
  },
  {
   "cell_type": "markdown",
   "id": "155fb875-6b7b-45e7-bf31-bfadc01f095a",
   "metadata": {},
   "source": [
    "### Evaluating the model"
   ]
  },
  {
   "cell_type": "markdown",
   "metadata": {},
   "source": [
    "Evaluate the model on the training set."
   ]
  },
  {
   "cell_type": "code",
   "execution_count": null,
   "id": "99e91531-1a51-4fb5-b0fd-82d40590d2d3",
   "metadata": {},
   "outputs": [],
   "source": [
    "train_acc = model.score(X_train, y_train)\n",
    "print(f\"The model's accuracy on the training dataset is: {train_acc*100}%\")"
   ]
  },
  {
   "cell_type": "markdown",
   "metadata": {},
   "source": [
    "Evaluate the model on the test set."
   ]
  },
  {
   "cell_type": "code",
   "execution_count": null,
   "id": "9351b557-56e5-434d-ae11-fb192e33a59e",
   "metadata": {},
   "outputs": [],
   "source": [
    "test_acc = model.score(X_test, y_test)\n",
    "print(f\"The model's accuracy on the testing dataset is: {test_acc*100:.2f}%\")"
   ]
  },
  {
   "cell_type": "markdown",
   "metadata": {},
   "source": [
    "Create a classification report."
   ]
  },
  {
   "cell_type": "code",
   "execution_count": null,
   "id": "60f8ddfa-2bf0-41aa-94b6-9f79b4e7e5ca",
   "metadata": {},
   "outputs": [],
   "source": [
    "from sklearn.metrics import classification_report\n",
    "\n",
    "print(classification_report(y_test, y_preds))"
   ]
  },
  {
   "cell_type": "markdown",
   "id": "8cbd829d-8453-4f30-8ba7-ba877e0d9357",
   "metadata": {},
   "source": [
    "Area Under Receiver Operating Characteristic (ROC) Curve"
   ]
  },
  {
   "cell_type": "code",
   "execution_count": null,
   "id": "2167ff95-be66-4641-bef8-d3098f30cb14",
   "metadata": {},
   "outputs": [],
   "source": [
    "from sklearn.metrics import RocCurveDisplay\n",
    "roc_curve_display = RocCurveDisplay.from_estimator(estimator=model, X=X_test, y=y_test)"
   ]
  },
  {
   "cell_type": "code",
   "execution_count": null,
   "id": "1b73b5f8-b444-4b20-9572-9921a9135ced",
   "metadata": {},
   "outputs": [],
   "source": []
  }
 ],
 "metadata": {
  "kernelspec": {
   "display_name": "Python 3 (ipykernel)",
   "language": "python",
   "name": "python3"
  },
  "language_info": {
   "codemirror_mode": {
    "name": "ipython",
    "version": 3
   },
   "file_extension": ".py",
   "mimetype": "text/x-python",
   "name": "python",
   "nbconvert_exporter": "python",
   "pygments_lexer": "ipython3",
   "version": "3.11.5"
  }
 },
 "nbformat": 4,
 "nbformat_minor": 5
}
