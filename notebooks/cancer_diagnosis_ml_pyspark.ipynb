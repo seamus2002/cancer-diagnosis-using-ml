{
 "cells": [
  {
   "cell_type": "markdown",
   "id": "bcc41ae5-9297-4b20-a518-85352d7d2583",
   "metadata": {},
   "source": [
    "# Cancer Diagnosis using Machine Learning (PySpark)"
   ]
  },
  {
   "cell_type": "code",
   "execution_count": 1,
   "id": "e219c520-1961-404f-b1fa-cd422b7d6e81",
   "metadata": {},
   "outputs": [],
   "source": [
    "from pyspark import SparkContext\n",
    "from pyspark.sql import SparkSession\n",
    "from pyspark.ml.feature import VectorAssembler, StringIndexer\n",
    "from pyspark.ml.classification import RandomForestClassifier, LogisticRegression\n",
    "from pyspark.ml.evaluation import BinaryClassificationEvaluator, MulticlassClassificationEvaluator\n",
    "from pyspark.ml import Pipeline\n",
    "import matplotlib.pyplot as plt\n",
    "from sklearn.metrics import roc_curve, auc"
   ]
  },
  {
   "cell_type": "code",
   "execution_count": 2,
   "id": "1920d702-b3a2-4c46-a21f-c9ad8c6a382b",
   "metadata": {},
   "outputs": [
    {
     "name": "stderr",
     "output_type": "stream",
     "text": [
      "23/12/02 17:38:26 WARN Utils: Your hostname, seamus-laptop resolves to a loopback address: 127.0.1.1; using 192.168.1.165 instead (on interface wlo1)\n",
      "23/12/02 17:38:26 WARN Utils: Set SPARK_LOCAL_IP if you need to bind to another address\n",
      "Setting default log level to \"WARN\".\n",
      "To adjust logging level use sc.setLogLevel(newLevel). For SparkR, use setLogLevel(newLevel).\n",
      "23/12/02 17:38:27 WARN NativeCodeLoader: Unable to load native-hadoop library for your platform... using builtin-java classes where applicable\n"
     ]
    }
   ],
   "source": [
    "# Initialize SparkContext\n",
    "sc = SparkContext(\"local\", \"CancerDiagnosis\")\n",
    "\n",
    "# Initialize Spark session using SparkContext\n",
    "spark = SparkSession(sc)"
   ]
  },
  {
   "cell_type": "markdown",
   "id": "cf80d1e3-40f5-434c-8aea-3991e159439c",
   "metadata": {},
   "source": [
    "### Getting the data ready"
   ]
  },
  {
   "cell_type": "markdown",
   "id": "2b120de4-bf13-4b9b-808c-7381cc767a87",
   "metadata": {},
   "source": [
    "Import the cancer data."
   ]
  },
  {
   "cell_type": "code",
   "execution_count": 3,
   "id": "7c72c122-0305-4ffc-96fa-5841b980e865",
   "metadata": {},
   "outputs": [
    {
     "name": "stderr",
     "output_type": "stream",
     "text": [
      "23/12/02 17:38:38 WARN package: Truncated the string representation of a plan since it was too large. This behavior can be adjusted by setting 'spark.sql.debug.maxToStringFields'.\n"
     ]
    },
    {
     "data": {
      "text/html": [
       "<div>\n",
       "<style scoped>\n",
       "    .dataframe tbody tr th:only-of-type {\n",
       "        vertical-align: middle;\n",
       "    }\n",
       "\n",
       "    .dataframe tbody tr th {\n",
       "        vertical-align: top;\n",
       "    }\n",
       "\n",
       "    .dataframe thead th {\n",
       "        text-align: right;\n",
       "    }\n",
       "</style>\n",
       "<table border=\"1\" class=\"dataframe\">\n",
       "  <thead>\n",
       "    <tr style=\"text-align: right;\">\n",
       "      <th></th>\n",
       "      <th>id</th>\n",
       "      <th>diagnosis</th>\n",
       "      <th>Radius_mean</th>\n",
       "      <th>Texture_mean</th>\n",
       "      <th>perimeter_mean</th>\n",
       "      <th>area_mean</th>\n",
       "      <th>smoothness_mean</th>\n",
       "      <th>compactness_mean</th>\n",
       "      <th>concavity_mean</th>\n",
       "      <th>concave points_mean</th>\n",
       "      <th>...</th>\n",
       "      <th>radius_worst</th>\n",
       "      <th>texture_worst</th>\n",
       "      <th>perimeter_worst</th>\n",
       "      <th>area_worst</th>\n",
       "      <th>smoothness_worst</th>\n",
       "      <th>compactness_worst</th>\n",
       "      <th>concavity_worst</th>\n",
       "      <th>concave points_worst</th>\n",
       "      <th>symmetry_worst</th>\n",
       "      <th>fractal_dimension_worst</th>\n",
       "    </tr>\n",
       "  </thead>\n",
       "  <tbody>\n",
       "    <tr>\n",
       "      <th>0</th>\n",
       "      <td>842302</td>\n",
       "      <td>M</td>\n",
       "      <td>17.99</td>\n",
       "      <td>10.38</td>\n",
       "      <td>122.80</td>\n",
       "      <td>1001.0</td>\n",
       "      <td>0.11840</td>\n",
       "      <td>0.27760</td>\n",
       "      <td>0.3001</td>\n",
       "      <td>0.14710</td>\n",
       "      <td>...</td>\n",
       "      <td>25.38</td>\n",
       "      <td>17.33</td>\n",
       "      <td>184.60</td>\n",
       "      <td>2019.0</td>\n",
       "      <td>0.1622</td>\n",
       "      <td>0.6656</td>\n",
       "      <td>0.7119</td>\n",
       "      <td>0.2654</td>\n",
       "      <td>0.4601</td>\n",
       "      <td>0.11890</td>\n",
       "    </tr>\n",
       "    <tr>\n",
       "      <th>1</th>\n",
       "      <td>842517</td>\n",
       "      <td>M</td>\n",
       "      <td>20.57</td>\n",
       "      <td>21.77</td>\n",
       "      <td>132.90</td>\n",
       "      <td>1326.0</td>\n",
       "      <td>0.08474</td>\n",
       "      <td>0.07864</td>\n",
       "      <td>0.0869</td>\n",
       "      <td>0.07017</td>\n",
       "      <td>...</td>\n",
       "      <td>24.99</td>\n",
       "      <td>23.41</td>\n",
       "      <td>158.80</td>\n",
       "      <td>1956.0</td>\n",
       "      <td>0.1238</td>\n",
       "      <td>0.1866</td>\n",
       "      <td>0.2416</td>\n",
       "      <td>0.1860</td>\n",
       "      <td>0.2750</td>\n",
       "      <td>0.08902</td>\n",
       "    </tr>\n",
       "    <tr>\n",
       "      <th>2</th>\n",
       "      <td>84300903</td>\n",
       "      <td>M</td>\n",
       "      <td>19.69</td>\n",
       "      <td>21.25</td>\n",
       "      <td>130.00</td>\n",
       "      <td>1203.0</td>\n",
       "      <td>0.10960</td>\n",
       "      <td>0.15990</td>\n",
       "      <td>0.1974</td>\n",
       "      <td>0.12790</td>\n",
       "      <td>...</td>\n",
       "      <td>23.57</td>\n",
       "      <td>25.53</td>\n",
       "      <td>152.50</td>\n",
       "      <td>1709.0</td>\n",
       "      <td>0.1444</td>\n",
       "      <td>0.4245</td>\n",
       "      <td>0.4504</td>\n",
       "      <td>0.2430</td>\n",
       "      <td>0.3613</td>\n",
       "      <td>0.08758</td>\n",
       "    </tr>\n",
       "    <tr>\n",
       "      <th>3</th>\n",
       "      <td>84348301</td>\n",
       "      <td>M</td>\n",
       "      <td>11.42</td>\n",
       "      <td>20.38</td>\n",
       "      <td>77.58</td>\n",
       "      <td>386.1</td>\n",
       "      <td>0.14250</td>\n",
       "      <td>0.28390</td>\n",
       "      <td>0.2414</td>\n",
       "      <td>0.10520</td>\n",
       "      <td>...</td>\n",
       "      <td>14.91</td>\n",
       "      <td>26.50</td>\n",
       "      <td>98.87</td>\n",
       "      <td>567.7</td>\n",
       "      <td>0.2098</td>\n",
       "      <td>0.8663</td>\n",
       "      <td>0.6869</td>\n",
       "      <td>0.2575</td>\n",
       "      <td>0.6638</td>\n",
       "      <td>0.17300</td>\n",
       "    </tr>\n",
       "    <tr>\n",
       "      <th>4</th>\n",
       "      <td>84358402</td>\n",
       "      <td>M</td>\n",
       "      <td>20.29</td>\n",
       "      <td>14.34</td>\n",
       "      <td>135.10</td>\n",
       "      <td>1297.0</td>\n",
       "      <td>0.10030</td>\n",
       "      <td>0.13280</td>\n",
       "      <td>0.1980</td>\n",
       "      <td>0.10430</td>\n",
       "      <td>...</td>\n",
       "      <td>22.54</td>\n",
       "      <td>16.67</td>\n",
       "      <td>152.20</td>\n",
       "      <td>1575.0</td>\n",
       "      <td>0.1374</td>\n",
       "      <td>0.2050</td>\n",
       "      <td>0.4000</td>\n",
       "      <td>0.1625</td>\n",
       "      <td>0.2364</td>\n",
       "      <td>0.07678</td>\n",
       "    </tr>\n",
       "  </tbody>\n",
       "</table>\n",
       "<p>5 rows × 32 columns</p>\n",
       "</div>"
      ],
      "text/plain": [
       "         id diagnosis  Radius_mean  Texture_mean  perimeter_mean  area_mean  \\\n",
       "0    842302         M        17.99         10.38          122.80     1001.0   \n",
       "1    842517         M        20.57         21.77          132.90     1326.0   \n",
       "2  84300903         M        19.69         21.25          130.00     1203.0   \n",
       "3  84348301         M        11.42         20.38           77.58      386.1   \n",
       "4  84358402         M        20.29         14.34          135.10     1297.0   \n",
       "\n",
       "   smoothness_mean  compactness_mean  concavity_mean  concave points_mean  \\\n",
       "0          0.11840           0.27760          0.3001              0.14710   \n",
       "1          0.08474           0.07864          0.0869              0.07017   \n",
       "2          0.10960           0.15990          0.1974              0.12790   \n",
       "3          0.14250           0.28390          0.2414              0.10520   \n",
       "4          0.10030           0.13280          0.1980              0.10430   \n",
       "\n",
       "   ...  radius_worst  texture_worst  perimeter_worst  area_worst  \\\n",
       "0  ...         25.38          17.33           184.60      2019.0   \n",
       "1  ...         24.99          23.41           158.80      1956.0   \n",
       "2  ...         23.57          25.53           152.50      1709.0   \n",
       "3  ...         14.91          26.50            98.87       567.7   \n",
       "4  ...         22.54          16.67           152.20      1575.0   \n",
       "\n",
       "   smoothness_worst  compactness_worst  concavity_worst  concave points_worst  \\\n",
       "0            0.1622             0.6656           0.7119                0.2654   \n",
       "1            0.1238             0.1866           0.2416                0.1860   \n",
       "2            0.1444             0.4245           0.4504                0.2430   \n",
       "3            0.2098             0.8663           0.6869                0.2575   \n",
       "4            0.1374             0.2050           0.4000                0.1625   \n",
       "\n",
       "   symmetry_worst  fractal_dimension_worst  \n",
       "0          0.4601                  0.11890  \n",
       "1          0.2750                  0.08902  \n",
       "2          0.3613                  0.08758  \n",
       "3          0.6638                  0.17300  \n",
       "4          0.2364                  0.07678  \n",
       "\n",
       "[5 rows x 32 columns]"
      ]
     },
     "execution_count": 3,
     "metadata": {},
     "output_type": "execute_result"
    }
   ],
   "source": [
    "cancer_data = spark.read.csv(\"../data/cancer_data.csv\", header=True, inferSchema=True)\n",
    "cancer_data.limit(5).toPandas()"
   ]
  },
  {
   "cell_type": "markdown",
   "id": "ce0c9b6a-ad61-4deb-b39c-966ca9ce6187",
   "metadata": {},
   "source": [
    "Check if there are any missing values."
   ]
  },
  {
   "cell_type": "code",
   "execution_count": 4,
   "id": "b8b011ae-051a-4b46-8a65-c8e648dd811a",
   "metadata": {},
   "outputs": [
    {
     "data": {
      "text/plain": [
       "{'id': 0,\n",
       " 'diagnosis': 0,\n",
       " 'Radius_mean': 0,\n",
       " 'Texture_mean': 0,\n",
       " 'perimeter_mean': 0,\n",
       " 'area_mean': 0,\n",
       " 'smoothness_mean': 0,\n",
       " 'compactness_mean': 0,\n",
       " 'concavity_mean': 0,\n",
       " 'concave points_mean': 0,\n",
       " 'symmetry_mean': 0,\n",
       " 'fractal_dimension_mean': 0,\n",
       " 'radius_se': 0,\n",
       " 'texture_se': 0,\n",
       " 'perimeter_se': 0,\n",
       " 'area_se': 0,\n",
       " 'smoothness_se': 0,\n",
       " 'compactness_se': 0,\n",
       " 'concavity_se': 0,\n",
       " 'concave points_se': 0,\n",
       " 'symmetry_se': 0,\n",
       " 'fractal_dimension_se': 0,\n",
       " 'radius_worst': 0,\n",
       " 'texture_worst': 0,\n",
       " 'perimeter_worst': 0,\n",
       " 'area_worst': 0,\n",
       " 'smoothness_worst': 0,\n",
       " 'compactness_worst': 0,\n",
       " 'concavity_worst': 0,\n",
       " 'concave points_worst': 0,\n",
       " 'symmetry_worst': 0,\n",
       " 'fractal_dimension_worst': 0}"
      ]
     },
     "execution_count": 4,
     "metadata": {},
     "output_type": "execute_result"
    }
   ],
   "source": [
    "# Get the sum of all missing values\n",
    "{col: cancer_data.filter(cancer_data[col].isNull()).count() for col in cancer_data.columns}"
   ]
  },
  {
   "cell_type": "markdown",
   "id": "fb09a01d-776c-4a6a-a071-59d1156aec89",
   "metadata": {},
   "source": [
    "Convert the \"diagnosis\" column to numeric using StringIndexer"
   ]
  },
  {
   "cell_type": "code",
   "execution_count": 5,
   "id": "c686b2cf-dff9-49c2-9ecc-478ec4b1ca3c",
   "metadata": {},
   "outputs": [],
   "source": [
    "indexer = StringIndexer(inputCol=\"diagnosis\", outputCol=\"label\")\n",
    "cancer_data_indexed = indexer.fit(cancer_data).transform(cancer_data)"
   ]
  },
  {
   "cell_type": "markdown",
   "id": "559ac210-4dff-435c-9b21-15151c3a227b",
   "metadata": {},
   "source": [
    "Create the feature columns and feature vector"
   ]
  },
  {
   "cell_type": "code",
   "execution_count": 6,
   "id": "a92cadf3-1b89-4db7-b31f-51c505e09d8e",
   "metadata": {},
   "outputs": [],
   "source": [
    "feature_columns = [col for col in cancer_data.columns if col != \"diagnosis\"]\n",
    "assembler = VectorAssembler(inputCols=feature_columns, outputCol=\"features\")\n",
    "cancer_data_assembled = assembler.transform(cancer_data_indexed)"
   ]
  },
  {
   "cell_type": "markdown",
   "id": "e9384ee1-9741-4d0a-ae14-4e36d15c2bb7",
   "metadata": {},
   "source": [
    "Split the data into training and test sets."
   ]
  },
  {
   "cell_type": "code",
   "execution_count": 7,
   "id": "9a1ad818-b70c-4af8-af4c-059a9dfd6b8c",
   "metadata": {},
   "outputs": [],
   "source": [
    "(training_data, test_data) = cancer_data_assembled.randomSplit([0.75, 0.25], seed=42)"
   ]
  },
  {
   "cell_type": "markdown",
   "id": "01c95f79-565f-4070-8550-2753d2fd8e97",
   "metadata": {},
   "source": [
    "## Algorithm Comparison: Random Forest and Logistic Regression"
   ]
  },
  {
   "cell_type": "markdown",
   "id": "7352c0d3-ac8e-44e8-8538-79bb18bf3f16",
   "metadata": {},
   "source": [
    "Define the models."
   ]
  },
  {
   "cell_type": "code",
   "execution_count": 8,
   "id": "2b34e11c-b8d8-4474-99ed-2941d232b4e9",
   "metadata": {},
   "outputs": [],
   "source": [
    "rf_classifier = RandomForestClassifier(labelCol=\"label\", featuresCol=\"features\", seed=42)\n",
    "lr_classifier = LogisticRegression(labelCol=\"label\", featuresCol=\"features\", maxIter=10, regParam=0.3, elasticNetParam=0.8)"
   ]
  },
  {
   "cell_type": "markdown",
   "id": "95873786-745b-4261-a71a-a0e7d6ed7b34",
   "metadata": {},
   "source": [
    "Create pipelines."
   ]
  },
  {
   "cell_type": "code",
   "execution_count": 9,
   "id": "fcccbbb1-f346-402e-9ed6-683adb7a3b1b",
   "metadata": {},
   "outputs": [],
   "source": [
    "rf_pipeline = Pipeline(stages=[rf_classifier])\n",
    "lr_pipeline = Pipeline(stages=[lr_classifier])"
   ]
  },
  {
   "cell_type": "markdown",
   "id": "87e90a22-2610-4dd1-9b21-216a1a7a1740",
   "metadata": {},
   "source": [
    "Train the models."
   ]
  },
  {
   "cell_type": "code",
   "execution_count": 10,
   "id": "d00901bd-0145-48bd-9f6b-83e0bb0dd492",
   "metadata": {},
   "outputs": [],
   "source": [
    "rf_model = rf_pipeline.fit(training_data)\n",
    "lr_model = lr_pipeline.fit(training_data)"
   ]
  },
  {
   "cell_type": "markdown",
   "id": "6adbb8b7-bce7-4f48-be10-2e7348eee026",
   "metadata": {},
   "source": [
    "Make predictions."
   ]
  },
  {
   "cell_type": "code",
   "execution_count": 11,
   "id": "79f1a65c-452c-497e-845b-eb38d95f2b10",
   "metadata": {},
   "outputs": [],
   "source": [
    "rf_predictions = rf_model.transform(test_data)\n",
    "lr_predictions = lr_model.transform(test_data)"
   ]
  },
  {
   "cell_type": "markdown",
   "id": "3e1a0580-28bf-41c2-8363-6e75a34cad60",
   "metadata": {},
   "source": [
    "Evaluate the models."
   ]
  },
  {
   "cell_type": "code",
   "execution_count": 12,
   "id": "a875bf27-603e-40f0-8d23-7b7467191e61",
   "metadata": {},
   "outputs": [],
   "source": [
    "evaluator = BinaryClassificationEvaluator(labelCol=\"label\")\n",
    "\n",
    "rf_auc = evaluator.evaluate(rf_predictions)\n",
    "lr_auc = evaluator.evaluate(lr_predictions)\n",
    "\n",
    "multi_evaluator = MulticlassClassificationEvaluator(labelCol=\"label\", predictionCol=\"prediction\", metricName=\"f1\")\n",
    "\n",
    "rf_f1 = multi_evaluator.evaluate(rf_predictions)\n",
    "lr_f1 = multi_evaluator.evaluate(lr_predictions)\n",
    "\n",
    "rf_precision = multi_evaluator.evaluate(rf_predictions, {multi_evaluator.metricName: \"weightedPrecision\"})\n",
    "lr_precision = multi_evaluator.evaluate(lr_predictions, {multi_evaluator.metricName: \"weightedPrecision\"})\n",
    "\n",
    "rf_recall = multi_evaluator.evaluate(rf_predictions, {multi_evaluator.metricName: \"weightedRecall\"})\n",
    "lr_recall = multi_evaluator.evaluate(lr_predictions, {multi_evaluator.metricName: \"weightedRecall\"})"
   ]
  },
  {
   "cell_type": "markdown",
   "id": "d470afc8-8796-47dd-8ffc-fce94d7f15ca",
   "metadata": {},
   "source": [
    "Print evaluation metrics."
   ]
  },
  {
   "cell_type": "code",
   "execution_count": 13,
   "id": "6c2869d4-ee58-4327-97fe-7be1e77e99bd",
   "metadata": {},
   "outputs": [
    {
     "name": "stdout",
     "output_type": "stream",
     "text": [
      "Random Forest:\n",
      "AUC: 0.9934375\n",
      "F1 Score: 0.9648241482827948\n",
      "Precision: 0.9653442317916001\n",
      "Recall: 0.9649122807017545\n",
      "\n",
      "Logistic Regression:\n",
      "AUC: 0.9906250000000001\n",
      "F1 Score: 0.7939541160593793\n",
      "Precision: 0.8563851489188086\n",
      "Recall: 0.8070175438596492\n"
     ]
    }
   ],
   "source": [
    "print(\"Random Forest:\")\n",
    "print(f\"AUC: {rf_auc}\")\n",
    "print(f\"F1 Score: {rf_f1}\")\n",
    "print(f\"Precision: {rf_precision}\")\n",
    "print(f\"Recall: {rf_recall}\")\n",
    "\n",
    "print(\"\\nLogistic Regression:\")\n",
    "print(f\"AUC: {lr_auc}\")\n",
    "print(f\"F1 Score: {lr_f1}\")\n",
    "print(f\"Precision: {lr_precision}\")\n",
    "print(f\"Recall: {lr_recall}\")"
   ]
  },
  {
   "cell_type": "markdown",
   "id": "d38eb147-1363-4fbf-b9dc-f08cb666bb82",
   "metadata": {},
   "source": [
    "Plot ROC Curves."
   ]
  },
  {
   "cell_type": "code",
   "execution_count": 14,
   "id": "33bf1835-337d-4157-b105-b815d5305fd1",
   "metadata": {},
   "outputs": [],
   "source": [
    "def plot_roc_curve(predictions, title):\n",
    "    # Convert Spark DataFrame to Pandas DataFrame\n",
    "    predictions_pd = predictions.select(\"label\", \"probability\").toPandas()\n",
    "\n",
    "    y_true = predictions_pd[\"label\"]\n",
    "    y_scores = predictions_pd[\"probability\"].apply(lambda x: x[1])\n",
    "\n",
    "    fpr, tpr, _ = roc_curve(y_true, y_scores)\n",
    "    roc_auc = auc(fpr, tpr)\n",
    "\n",
    "    plt.figure(figsize=(8, 8))\n",
    "    plt.plot(fpr, tpr, color='seagreen', lw=2, label='ROC curve (area = %0.2f)' % roc_auc)\n",
    "    plt.plot([0, 1], [0, 1], color='navy', lw=2, linestyle='--')\n",
    "    plt.xlim([0.0, 1.0])\n",
    "    plt.ylim([0.0, 1.0])\n",
    "    plt.xlabel('False Positive Rate')\n",
    "    plt.ylabel('True Positive Rate')\n",
    "    plt.title(title)\n",
    "    plt.legend(loc=\"lower right\")\n",
    "    plt.show()"
   ]
  },
  {
   "cell_type": "code",
   "execution_count": 15,
   "id": "afc7dee3-9ace-4eec-8f14-fe1d5ab99f11",
   "metadata": {},
   "outputs": [
    {
     "data": {
      "image/png": "[encoded data removed]",
      "text/plain": [
       "<Figure size 800x800 with 1 Axes>"
      ]
     },
     "metadata": {},
     "output_type": "display_data"
    }
   ],
   "source": [
    "# Plot ROC Curve for Random Forest\n",
    "plot_roc_curve(rf_predictions, \"Random Forest ROC Curve\")"
   ]
  },
  {
   "cell_type": "code",
   "execution_count": 16,
   "id": "0e41190d-f6ce-4187-9154-eca85f0814e3",
   "metadata": {},
   "outputs": [
    {
     "data": {
      "image/png": "[encoded data removed]",
      "text/plain": [
       "<Figure size 800x800 with 1 Axes>"
      ]
     },
     "metadata": {},
     "output_type": "display_data"
    }
   ],
   "source": [
    "# Plot ROC Curve for Logistic Regression\n",
    "plot_roc_curve(lr_predictions, \"Logistic Regression ROC Curve\")"
   ]
  },
  {
   "cell_type": "code",
   "execution_count": 17,
   "id": "340c1483-783f-49b5-aef3-a0682d22918c",
   "metadata": {},
   "outputs": [],
   "source": [
    "# Stop SparkContext\n",
    "sc.stop()"
   ]
  },
  {
   "cell_type": "code",
   "execution_count": null,
   "id": "db36621b-830b-44fe-88f8-8d4394ad9e75",
   "metadata": {},
   "outputs": [],
   "source": []
  }
 ],
 "metadata": {
  "kernelspec": {
   "display_name": "Python 3 (ipykernel)",
   "language": "python",
   "name": "python3"
  },
  "language_info": {
   "codemirror_mode": {
    "name": "ipython",
    "version": 3
   },
   "file_extension": ".py",
   "mimetype": "text/x-python",
   "name": "python",
   "nbconvert_exporter": "python",
   "pygments_lexer": "ipython3",
   "version": "3.10.13"
  }
 },
 "nbformat": 4,
 "nbformat_minor": 5
}
